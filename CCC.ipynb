{
 "cells": [
  {
   "cell_type": "code",
   "execution_count": 29,
   "id": "a978e661-ec99-4917-acdc-7b9f5818fda2",
   "metadata": {},
   "outputs": [],
   "source": [
    ":opt no-lint"
   ]
  },
  {
   "cell_type": "code",
   "execution_count": 1,
   "id": "33a42434-213b-4bff-a150-712831ffdfe9",
   "metadata": {},
   "outputs": [],
   "source": [
    "data Expr = Val Int | Add Expr Expr  deriving Show"
   ]
  },
  {
   "cell_type": "markdown",
   "id": "593e542b-d8ac-4952-a287-302e1313887e",
   "metadata": {},
   "source": [
    "Step 1. Define the Semantics"
   ]
  },
  {
   "cell_type": "code",
   "execution_count": 2,
   "id": "b6d6b084-aec1-4832-b599-ac6dd1aad81c",
   "metadata": {},
   "outputs": [],
   "source": [
    "eval :: Expr -> Int\n",
    "eval (Val n)   = n\n",
    "eval (Add x y) = eval x + eval y"
   ]
  },
  {
   "cell_type": "code",
   "execution_count": 3,
   "id": "87788cec-2357-40c1-bb4d-50ce327bad4a",
   "metadata": {},
   "outputs": [
    {
     "data": {
      "text/plain": [
       "7"
      ]
     },
     "metadata": {},
     "output_type": "display_data"
    }
   ],
   "source": [
    "eval (Add (Val 3) (Val 4))"
   ]
  },
  {
   "cell_type": "markdown",
   "id": "6f692b8a-c9d7-4d2b-b161-f205074693fb",
   "metadata": {},
   "source": [
    "Step 2. 두번째 변형된 의미 stack transformer (사실상 가상머신 정의에 가까움)\n",
    "\n",
    "만족하기 원하는 성질\n",
    "```\n",
    "evalS e s = eval e : s\n",
    "```"
   ]
  },
  {
   "cell_type": "code",
   "execution_count": 10,
   "id": "390423de-39f7-410b-941a-b52e51c20146",
   "metadata": {},
   "outputs": [],
   "source": [
    "type Stack = [Int]"
   ]
  },
  {
   "cell_type": "code",
   "execution_count": 15,
   "id": "e7fb42a1-73b7-495f-8565-48c44886f6f6",
   "metadata": {},
   "outputs": [],
   "source": [
    "pushS :: Int -> Stack -> Stack\n",
    "pushS n s = n : s \n",
    "\n",
    "addS :: Stack -> Stack\n",
    "addS (n:m:s) = (m+n):s"
   ]
  },
  {
   "cell_type": "code",
   "execution_count": 16,
   "id": "1f638220-7bcb-4aa6-993a-89db12d97eb6",
   "metadata": {},
   "outputs": [],
   "source": [
    "evalS :: Expr -> Stack -> Stack\n",
    "evalS (Val n)   s = pushS n s\n",
    "evalS (Add x y) s = addS (evalS y (evalS x s))"
   ]
  },
  {
   "cell_type": "markdown",
   "id": "d788385c-7975-465e-8e4d-44f734a478ac",
   "metadata": {},
   "source": [
    "Step 3. CPS style\n",
    "\n",
    "흐름 제어(즉, 계산의 순서)를 명확이 드러내기 위해\n",
    "\n",
    "(((((      (1 + 2) + (3 + 4)      ))))))))\n",
    "\n",
    "만족하고자 하는 성질\n",
    "```\n",
    "evalC e c s = c (evalS e s)\n",
    "```"
   ]
  },
  {
   "cell_type": "code",
   "execution_count": 17,
   "id": "db169519-3338-42b6-adb3-3fbaf3bcdd9c",
   "metadata": {},
   "outputs": [],
   "source": [
    "type Cont = Stack -> Stack"
   ]
  },
  {
   "cell_type": "code",
   "execution_count": 20,
   "id": "b41b44b5-4588-431a-872d-a05eaa82d42a",
   "metadata": {},
   "outputs": [],
   "source": [
    "evalC :: Expr -> Cont -> Cont\n",
    "evalC (Val n) c s   = c (pushS n s)\n",
    "evalC (Add x y) c s = evalC x (evalC y (c . addS)) s"
   ]
  },
  {
   "cell_type": "markdown",
   "id": "2eb9cdd5-2cde-4e22-90d6-afd08eb921a0",
   "metadata": {},
   "source": [
    "```\n",
    "  evalC ((1+2)+(3+4)) c s\n",
    "= evalC (1+2) (evalC (3+4) (c . addS)) s\n",
    "= evalC 1 (evalC 2 ((evalC (3+4) (c . addS)) . addS)) s\n",
    "= (evalC 2 ((evalC (3+4) (c . addS)) . addS)) (pushS 1 s)\n",
    "= (((evalC (3+4) (c . addS)) . addS) (pushS 2 s)) (pushS 1 s)\n",
    "```"
   ]
  },
  {
   "cell_type": "markdown",
   "id": "13581bfa-5cf3-48f5-9745-e2ad5e05ee59",
   "metadata": {},
   "source": [
    "Step 4. 좀더 깔끔하게 CPS 정리"
   ]
  },
  {
   "cell_type": "code",
   "execution_count": 30,
   "id": "1eb4482d-d818-4f73-969d-ecb8ce311eb4",
   "metadata": {},
   "outputs": [],
   "source": [
    "type Cont = Stack -> Stack\n",
    "\n",
    "pushC :: Int -> Cont -> Cont\n",
    "pushC n c = c . pushS n\n",
    "\n",
    "addC :: Cont -> Cont\n",
    "addC c = c . addS\n",
    "\n",
    "haltC :: Cont    -- 더 이상 나머지 할 일(포함하고 있는 더 큰 식)이 없다\n",
    "haltC = \\s -> s"
   ]
  },
  {
   "cell_type": "code",
   "execution_count": 31,
   "id": "547c5f9e-4342-483c-a165-c7acd01fb279",
   "metadata": {},
   "outputs": [],
   "source": [
    "evalC :: Expr -> Cont -> Cont\n",
    "evalC (Val n) c   = pushC n c\n",
    "evalC (Add x y) c = evalC x (evalC y (addC c))"
   ]
  },
  {
   "cell_type": "markdown",
   "id": "0b87b95b-1cfc-4688-9447-2c76d1e8e1ce",
   "metadata": {},
   "source": [
    "계산과정에서 기본 연산(addC, pushC)에 해당하는 개념을 데이터화하면\n",
    "\n",
    "구분해서 검사 가능 (함수 안은 일반적으로 들여다보고 검사가 안되니까)"
   ]
  },
  {
   "cell_type": "code",
   "execution_count": 39,
   "id": "dcbeac45-8b17-4949-8465-03ded40697e0",
   "metadata": {},
   "outputs": [],
   "source": [
    "data Code\n",
    "  = HALT\n",
    "  | PUSH Int Code\n",
    "  | ADD Code\n",
    "  deriving Show"
   ]
  },
  {
   "cell_type": "code",
   "execution_count": 35,
   "id": "917d6274-6672-4beb-8581-8bd63a7be32c",
   "metadata": {},
   "outputs": [
    {
     "data": {
      "text/html": [
       "<style>/* Styles used for the Hoogle display in the pager */\n",
       ".hoogle-doc {\n",
       "display: block;\n",
       "padding-bottom: 1.3em;\n",
       "padding-left: 0.4em;\n",
       "}\n",
       ".hoogle-code {\n",
       "display: block;\n",
       "font-family: monospace;\n",
       "white-space: pre;\n",
       "}\n",
       ".hoogle-text {\n",
       "display: block;\n",
       "}\n",
       ".hoogle-name {\n",
       "color: green;\n",
       "font-weight: bold;\n",
       "}\n",
       ".hoogle-head {\n",
       "font-weight: bold;\n",
       "}\n",
       ".hoogle-sub {\n",
       "display: block;\n",
       "margin-left: 0.4em;\n",
       "}\n",
       ".hoogle-package {\n",
       "font-weight: bold;\n",
       "font-style: italic;\n",
       "}\n",
       ".hoogle-module {\n",
       "font-weight: bold;\n",
       "}\n",
       ".hoogle-class {\n",
       "font-weight: bold;\n",
       "}\n",
       ".get-type {\n",
       "color: green;\n",
       "font-weight: bold;\n",
       "font-family: monospace;\n",
       "display: block;\n",
       "white-space: pre-wrap;\n",
       "}\n",
       ".show-type {\n",
       "color: green;\n",
       "font-weight: bold;\n",
       "font-family: monospace;\n",
       "margin-left: 1em;\n",
       "}\n",
       ".mono {\n",
       "font-family: monospace;\n",
       "display: block;\n",
       "}\n",
       ".err-msg {\n",
       "color: red;\n",
       "font-style: italic;\n",
       "font-family: monospace;\n",
       "white-space: pre;\n",
       "display: block;\n",
       "}\n",
       "#unshowable {\n",
       "color: red;\n",
       "font-weight: bold;\n",
       "}\n",
       ".err-msg.in.collapse {\n",
       "padding-top: 0.7em;\n",
       "}\n",
       ".highlight-code {\n",
       "white-space: pre;\n",
       "font-family: monospace;\n",
       "}\n",
       ".suggestion-warning { \n",
       "font-weight: bold;\n",
       "color: rgb(200, 130, 0);\n",
       "}\n",
       ".suggestion-error { \n",
       "font-weight: bold;\n",
       "color: red;\n",
       "}\n",
       ".suggestion-name {\n",
       "font-weight: bold;\n",
       "}\n",
       "</style><span class='get-type'>HALT :: Code</span>"
      ],
      "text/plain": [
       "HALT :: Code"
      ]
     },
     "metadata": {},
     "output_type": "display_data"
    },
    {
     "data": {
      "text/html": [
       "<style>/* Styles used for the Hoogle display in the pager */\n",
       ".hoogle-doc {\n",
       "display: block;\n",
       "padding-bottom: 1.3em;\n",
       "padding-left: 0.4em;\n",
       "}\n",
       ".hoogle-code {\n",
       "display: block;\n",
       "font-family: monospace;\n",
       "white-space: pre;\n",
       "}\n",
       ".hoogle-text {\n",
       "display: block;\n",
       "}\n",
       ".hoogle-name {\n",
       "color: green;\n",
       "font-weight: bold;\n",
       "}\n",
       ".hoogle-head {\n",
       "font-weight: bold;\n",
       "}\n",
       ".hoogle-sub {\n",
       "display: block;\n",
       "margin-left: 0.4em;\n",
       "}\n",
       ".hoogle-package {\n",
       "font-weight: bold;\n",
       "font-style: italic;\n",
       "}\n",
       ".hoogle-module {\n",
       "font-weight: bold;\n",
       "}\n",
       ".hoogle-class {\n",
       "font-weight: bold;\n",
       "}\n",
       ".get-type {\n",
       "color: green;\n",
       "font-weight: bold;\n",
       "font-family: monospace;\n",
       "display: block;\n",
       "white-space: pre-wrap;\n",
       "}\n",
       ".show-type {\n",
       "color: green;\n",
       "font-weight: bold;\n",
       "font-family: monospace;\n",
       "margin-left: 1em;\n",
       "}\n",
       ".mono {\n",
       "font-family: monospace;\n",
       "display: block;\n",
       "}\n",
       ".err-msg {\n",
       "color: red;\n",
       "font-style: italic;\n",
       "font-family: monospace;\n",
       "white-space: pre;\n",
       "display: block;\n",
       "}\n",
       "#unshowable {\n",
       "color: red;\n",
       "font-weight: bold;\n",
       "}\n",
       ".err-msg.in.collapse {\n",
       "padding-top: 0.7em;\n",
       "}\n",
       ".highlight-code {\n",
       "white-space: pre;\n",
       "font-family: monospace;\n",
       "}\n",
       ".suggestion-warning { \n",
       "font-weight: bold;\n",
       "color: rgb(200, 130, 0);\n",
       "}\n",
       ".suggestion-error { \n",
       "font-weight: bold;\n",
       "color: red;\n",
       "}\n",
       ".suggestion-name {\n",
       "font-weight: bold;\n",
       "}\n",
       "</style><span class='get-type'>PUSH :: Int -> Code -> Code</span>"
      ],
      "text/plain": [
       "PUSH :: Int -> Code -> Code"
      ]
     },
     "metadata": {},
     "output_type": "display_data"
    },
    {
     "data": {
      "text/html": [
       "<style>/* Styles used for the Hoogle display in the pager */\n",
       ".hoogle-doc {\n",
       "display: block;\n",
       "padding-bottom: 1.3em;\n",
       "padding-left: 0.4em;\n",
       "}\n",
       ".hoogle-code {\n",
       "display: block;\n",
       "font-family: monospace;\n",
       "white-space: pre;\n",
       "}\n",
       ".hoogle-text {\n",
       "display: block;\n",
       "}\n",
       ".hoogle-name {\n",
       "color: green;\n",
       "font-weight: bold;\n",
       "}\n",
       ".hoogle-head {\n",
       "font-weight: bold;\n",
       "}\n",
       ".hoogle-sub {\n",
       "display: block;\n",
       "margin-left: 0.4em;\n",
       "}\n",
       ".hoogle-package {\n",
       "font-weight: bold;\n",
       "font-style: italic;\n",
       "}\n",
       ".hoogle-module {\n",
       "font-weight: bold;\n",
       "}\n",
       ".hoogle-class {\n",
       "font-weight: bold;\n",
       "}\n",
       ".get-type {\n",
       "color: green;\n",
       "font-weight: bold;\n",
       "font-family: monospace;\n",
       "display: block;\n",
       "white-space: pre-wrap;\n",
       "}\n",
       ".show-type {\n",
       "color: green;\n",
       "font-weight: bold;\n",
       "font-family: monospace;\n",
       "margin-left: 1em;\n",
       "}\n",
       ".mono {\n",
       "font-family: monospace;\n",
       "display: block;\n",
       "}\n",
       ".err-msg {\n",
       "color: red;\n",
       "font-style: italic;\n",
       "font-family: monospace;\n",
       "white-space: pre;\n",
       "display: block;\n",
       "}\n",
       "#unshowable {\n",
       "color: red;\n",
       "font-weight: bold;\n",
       "}\n",
       ".err-msg.in.collapse {\n",
       "padding-top: 0.7em;\n",
       "}\n",
       ".highlight-code {\n",
       "white-space: pre;\n",
       "font-family: monospace;\n",
       "}\n",
       ".suggestion-warning { \n",
       "font-weight: bold;\n",
       "color: rgb(200, 130, 0);\n",
       "}\n",
       ".suggestion-error { \n",
       "font-weight: bold;\n",
       "color: red;\n",
       "}\n",
       ".suggestion-name {\n",
       "font-weight: bold;\n",
       "}\n",
       "</style><span class='get-type'>ADD :: Code -> Code -> Code</span>"
      ],
      "text/plain": [
       "ADD :: Code -> Code -> Code"
      ]
     },
     "metadata": {},
     "output_type": "display_data"
    }
   ],
   "source": [
    ":type HALT\n",
    ":type PUSH\n",
    ":type ADD"
   ]
  },
  {
   "cell_type": "code",
   "execution_count": 43,
   "id": "e611fb07-0ea9-4dd4-b8cf-7c17dd9ee4b5",
   "metadata": {},
   "outputs": [],
   "source": [
    "-- 이거 유도과정부터 다시 시작하면 될 듯\n",
    "exec :: Code -> Stack -> Stack\n",
    "exec HALT          s = s\n",
    "exec (PUSH n c)    s = exec c (n : s) \n",
    "exec (ADD c) (n:m:s) = exec c ((m+n):s)"
   ]
  },
  {
   "cell_type": "code",
   "execution_count": null,
   "id": "c1047508-d3ae-495f-96fd-77719b019746",
   "metadata": {},
   "outputs": [],
   "source": [
    "Expr -> Code"
   ]
  }
 ],
 "metadata": {
  "kernelspec": {
   "display_name": "Haskell",
   "language": "haskell",
   "name": "haskell"
  },
  "language_info": {
   "codemirror_mode": "ihaskell",
   "file_extension": ".hs",
   "mimetype": "text/x-haskell",
   "name": "haskell",
   "pygments_lexer": "Haskell",
   "version": "9.4.5"
  }
 },
 "nbformat": 4,
 "nbformat_minor": 5
}
